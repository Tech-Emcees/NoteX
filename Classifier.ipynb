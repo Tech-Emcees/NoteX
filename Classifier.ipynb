{
 "cells": [
  {
   "cell_type": "code",
   "execution_count": 2,
   "metadata": {},
   "outputs": [],
   "source": [
    "import pandas as pd\n",
    "from sklearn.model_selection import train_test_split\n",
    "from sklearn.svm import LinearSVC\n",
    "from sklearn.metrics import accuracy_score\n",
    "from sklearn.feature_extraction.text import TfidfVectorizer"
   ]
  },
  {
   "cell_type": "code",
   "execution_count": 3,
   "metadata": {},
   "outputs": [],
   "source": [
    "dataframe = pd.read_csv(\"spamham.csv\")\n",
    "final_df = dataframe.where((pd.notnull(dataframe)), '')\n",
    "final_df.loc[final_df[\"Category\"] == \"ham\", \"Category\",] = 1\n",
    "final_df.loc[final_df[\"Category\"] == \"spam\", \"Category\",] = 0\n",
    "final_df_x = final_df[\"Message\"]\n",
    "final_df_y = final_df[\"Category\"]\n",
    "x_train, x_test, y_train, y_test = train_test_split(final_df_x, final_df_y, train_size = 0.8, test_size = 0.2, random_state = 42)"
   ]
  },
  {
   "cell_type": "code",
   "execution_count": 4,
   "metadata": {},
   "outputs": [],
   "source": [
    "vectorizer = TfidfVectorizer(min_df = 1, stop_words = \"english\", lowercase = True)\n",
    "x_train_vectorized = vectorizer.fit_transform(x_train)\n",
    "x_test_vectorized = vectorizer.transform(x_test)"
   ]
  },
  {
   "cell_type": "code",
   "execution_count": 5,
   "metadata": {},
   "outputs": [
    {
     "name": "stderr",
     "output_type": "stream",
     "text": [
      "/Users/iman/Library/Python/3.9/lib/python/site-packages/sklearn/svm/_classes.py:32: FutureWarning: The default value of `dual` will change from `True` to `'auto'` in 1.5. Set the value of `dual` explicitly to suppress the warning.\n",
      "  warnings.warn(\n"
     ]
    }
   ],
   "source": [
    "y_train_int = y_train.astype('int')\n",
    "model = LinearSVC()\n",
    "model.fit(x_train_vectorized, y_train_int) #\n",
    "result = model.predict(x_test_vectorized)"
   ]
  },
  {
   "cell_type": "code",
   "execution_count": 6,
   "metadata": {},
   "outputs": [],
   "source": [
    "y_test_int = y_test.astype(\"int\")\n",
    "final_y = y_test_int.values"
   ]
  },
  {
   "cell_type": "code",
   "execution_count": 7,
   "metadata": {},
   "outputs": [
    {
     "data": {
      "text/plain": [
       "99.01345291479821"
      ]
     },
     "execution_count": 7,
     "metadata": {},
     "output_type": "execute_result"
    }
   ],
   "source": [
    "accuracy = accuracy_score(final_y, result) * 100\n",
    "accuracy"
   ]
  },
  {
   "cell_type": "code",
   "execution_count": 8,
   "metadata": {},
   "outputs": [
    {
     "name": "stdout",
     "output_type": "stream",
     "text": [
      "Spam\n",
      "Not spam\n"
     ]
    }
   ],
   "source": [
    "inp = pd.Series([\n",
    "    \"You have won 2300000 rupess!!!! TEXT 124343 to redeem NOW...\",\n",
    "    \"GOod notes\"\n",
    "])\n",
    "\n",
    "vectorized_inp = vectorizer.transform(inp)\n",
    "\n",
    "prediction = model.predict(vectorized_inp)\n",
    "\n",
    "if prediction[0] == 0:\n",
    "    print(\"Spam\")\n",
    "else:\n",
    "    print(\"Not spam\")\n",
    "\n",
    "if prediction[1] == 0:\n",
    "    print(\"Spam\")\n",
    "else:\n",
    "    print(\"Not spam\")"
   ]
  },
  {
   "cell_type": "code",
   "execution_count": 11,
   "metadata": {},
   "outputs": [
    {
     "name": "stdout",
     "output_type": "stream",
     "text": [
      "1\n"
     ]
    }
   ],
   "source": [
    "def spamClass(input_string):\n",
    "    inp = pd.Series([input_string])\n",
    "\n",
    "    vec_str = vectorizer.transform(inp)\n",
    "    prediction = model.predict(vec_str)\n",
    "\n",
    "    return prediction[0]\n",
    "\n",
    "print(spamClass(\"You have won 23000000 rupess in a jackpot!!!!! call 434343 to redeem your prize NOWW\"))"
   ]
  },
  {
   "cell_type": "code",
   "execution_count": null,
   "metadata": {},
   "outputs": [],
   "source": []
  }
 ],
 "metadata": {
  "kernelspec": {
   "display_name": "Python 3",
   "language": "python",
   "name": "python3"
  },
  "language_info": {
   "codemirror_mode": {
    "name": "ipython",
    "version": 3
   },
   "file_extension": ".py",
   "mimetype": "text/x-python",
   "name": "python",
   "nbconvert_exporter": "python",
   "pygments_lexer": "ipython3",
   "version": "3.9.6"
  },
  "orig_nbformat": 4
 },
 "nbformat": 4,
 "nbformat_minor": 2
}
